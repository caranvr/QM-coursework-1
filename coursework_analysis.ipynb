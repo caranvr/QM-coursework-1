{
 "cells": [
  {
   "cell_type": "markdown",
   "metadata": {},
   "source": [
    "## Between 2008 and 2018, did childhood obesity prevalence change at different rates in London’s local authorities than in local authorities outside London? "
   ]
  },
  {
   "cell_type": "markdown",
   "metadata": {},
   "source": [
    "#### 1. Importing libraries and reading in data"
   ]
  },
  {
   "cell_type": "code",
   "execution_count": 1,
   "metadata": {},
   "outputs": [],
   "source": [
    "import matplotlib.pyplot as plt\n",
    "import pandas as pd\n",
    "import numpy as np\n",
    "import seaborn as sn\n",
    "import scipy.stats as sps\n",
    "from matplotlib.ticker import AutoMinorLocator\n",
    "from statsmodels.distributions.empirical_distribution import ECDF\n",
    "\n",
    "pd.set_option('display.max_rows', 300) # specifies number of rows to show\n",
    "pd.options.display.float_format = '{:40,.4f}'.format # specifies default number format to 4 decimal places\n",
    "plt.style.use('ggplot')\n",
    "\n",
    "df = pd.read_csv('coursework_1_data_2019.csv')\n",
    "#Set index for data frame to 'local_authority_area' column\n",
    "df.set_index('local_authority_area', inplace=True)"
   ]
  },
  {
   "cell_type": "markdown",
   "metadata": {},
   "source": [
    "#### 2. Calculating percent change in childhood obesity prevalence for each local authority between 2008 and 2018"
   ]
  },
  {
   "cell_type": "markdown",
   "metadata": {},
   "source": [
    "##### a) Calculating childhood obesity prevalence in 2008 and 2018 for each local authority"
   ]
  },
  {
   "cell_type": "code",
   "execution_count": 6,
   "metadata": {},
   "outputs": [],
   "source": [
    "#Formula for calculating childhood obesity prevalence, measured as childhood obesity cases per 100,000 residents\n",
    "def case_rate_100000(cases, pop):\n",
    "    return (cases/pop)*100000\n",
    "\n",
    "#Initialise dictionary with inputs needed for childhood obesity prevalence function\n",
    "#keys will be names of new columns, values will be existing columns used to calculate new column\n",
    "case_rates = {}\n",
    "#Dynamically generate dictionary\n",
    "col_list = [0,2]\n",
    "for col in df.columns[col_list]:\n",
    "    col_split = col.split('_') #returns list of strings in column, using underscore as separator\n",
    "    case_rates[f'{col_split[0]}_rate'] = [col for col in df.columns if (col.startswith(col_split[0])) and (col.endswith('_' + col_split[2]))]\n",
    "    #generates dict key that starts with correct year and\n",
    "    #sets value equal to column names in data frame that correspond to total cases + population for the same year [col_split[0]] and group [col_split[2]]\n",
    "    #(I really could have just copied column names, but I initially calculated prevalence for males and females per year as well, which required more copy and pasting than I was willing to do)\n",
    "    \n",
    "#Use dictionary to dynamically generate new columns for data frame\n",
    "for k,v in case_rates.items():\n",
    "    df[k] = case_rate_100000(df[v[0]], df[v[1]])  "
   ]
  },
  {
   "cell_type": "markdown",
   "metadata": {},
   "source": [
    "##### b) Calculating percentage change in childhood obesity prevalence between 2008 and 2018"
   ]
  },
  {
   "cell_type": "code",
   "execution_count": 10,
   "metadata": {},
   "outputs": [],
   "source": [
    "def rate_change(x1, x2):\n",
    "    return ((x2 - x1)/x1)*100\n",
    "\n",
    "df['total_rate_change'] = rate_change(df['2008_rate'], df['2018_rate'])"
   ]
  },
  {
   "cell_type": "markdown",
   "metadata": {},
   "source": [
    "#### 3. Creating a new variable encoding whether or not a local authority is in London"
   ]
  },
  {
   "cell_type": "code",
   "execution_count": 17,
   "metadata": {},
   "outputs": [],
   "source": [
    "df['is_london'] = np.where(df['region'] == 'London', 1, 0) \n",
    "    #first argument is condition, second is value for if true, third is value for if false"
   ]
  },
  {
   "cell_type": "markdown",
   "metadata": {},
   "source": [
    "#### 4. Creating summary statistics tables for childhood obesity prevalence changes"
   ]
  },
  {
   "cell_type": "markdown",
   "metadata": {},
   "source": [
    "##### a) Combined summary (London and non-London)"
   ]
  },
  {
   "cell_type": "code",
   "execution_count": 18,
   "metadata": {},
   "outputs": [
    {
     "data": {
      "text/html": [
       "<div>\n",
       "<style scoped>\n",
       "    .dataframe tbody tr th:only-of-type {\n",
       "        vertical-align: middle;\n",
       "    }\n",
       "\n",
       "    .dataframe tbody tr th {\n",
       "        vertical-align: top;\n",
       "    }\n",
       "\n",
       "    .dataframe thead th {\n",
       "        text-align: right;\n",
       "    }\n",
       "</style>\n",
       "<table border=\"1\" class=\"dataframe\">\n",
       "  <thead>\n",
       "    <tr style=\"text-align: right;\">\n",
       "      <th></th>\n",
       "      <th>total_rate_change</th>\n",
       "    </tr>\n",
       "  </thead>\n",
       "  <tbody>\n",
       "    <tr>\n",
       "      <th>count</th>\n",
       "      <td>152.0000</td>\n",
       "    </tr>\n",
       "    <tr>\n",
       "      <th>mean</th>\n",
       "      <td>13.6571</td>\n",
       "    </tr>\n",
       "    <tr>\n",
       "      <th>std</th>\n",
       "      <td>12.2323</td>\n",
       "    </tr>\n",
       "    <tr>\n",
       "      <th>min</th>\n",
       "      <td>-27.8689</td>\n",
       "    </tr>\n",
       "    <tr>\n",
       "      <th>25%</th>\n",
       "      <td>5.9056</td>\n",
       "    </tr>\n",
       "    <tr>\n",
       "      <th>50%</th>\n",
       "      <td>9.9542</td>\n",
       "    </tr>\n",
       "    <tr>\n",
       "      <th>75%</th>\n",
       "      <td>20.3996</td>\n",
       "    </tr>\n",
       "    <tr>\n",
       "      <th>max</th>\n",
       "      <td>66.2787</td>\n",
       "    </tr>\n",
       "  </tbody>\n",
       "</table>\n",
       "</div>"
      ],
      "text/plain": [
       "                             total_rate_change\n",
       "count                                 152.0000\n",
       "mean                                   13.6571\n",
       "std                                    12.2323\n",
       "min                                   -27.8689\n",
       "25%                                     5.9056\n",
       "50%                                     9.9542\n",
       "75%                                    20.3996\n",
       "max                                    66.2787"
      ]
     },
     "execution_count": 18,
     "metadata": {},
     "output_type": "execute_result"
    }
   ],
   "source": [
    "df[['total_rate_change']].describe()"
   ]
  },
  {
   "cell_type": "markdown",
   "metadata": {},
   "source": [
    "##### b) Summary for London and non-London local authorities"
   ]
  },
  {
   "cell_type": "code",
   "execution_count": 19,
   "metadata": {},
   "outputs": [
    {
     "data": {
      "text/html": [
       "<div>\n",
       "<style scoped>\n",
       "    .dataframe tbody tr th:only-of-type {\n",
       "        vertical-align: middle;\n",
       "    }\n",
       "\n",
       "    .dataframe tbody tr th {\n",
       "        vertical-align: top;\n",
       "    }\n",
       "\n",
       "    .dataframe thead tr th {\n",
       "        text-align: left;\n",
       "    }\n",
       "\n",
       "    .dataframe thead tr:last-of-type th {\n",
       "        text-align: right;\n",
       "    }\n",
       "</style>\n",
       "<table border=\"1\" class=\"dataframe\">\n",
       "  <thead>\n",
       "    <tr>\n",
       "      <th></th>\n",
       "      <th colspan=\"8\" halign=\"left\">total_rate_change</th>\n",
       "    </tr>\n",
       "    <tr>\n",
       "      <th></th>\n",
       "      <th>count</th>\n",
       "      <th>mean</th>\n",
       "      <th>std</th>\n",
       "      <th>min</th>\n",
       "      <th>25%</th>\n",
       "      <th>50%</th>\n",
       "      <th>75%</th>\n",
       "      <th>max</th>\n",
       "    </tr>\n",
       "    <tr>\n",
       "      <th>is_london</th>\n",
       "      <th></th>\n",
       "      <th></th>\n",
       "      <th></th>\n",
       "      <th></th>\n",
       "      <th></th>\n",
       "      <th></th>\n",
       "      <th></th>\n",
       "      <th></th>\n",
       "    </tr>\n",
       "  </thead>\n",
       "  <tbody>\n",
       "    <tr>\n",
       "      <th>0</th>\n",
       "      <td>119.0000</td>\n",
       "      <td>9.4707</td>\n",
       "      <td>8.5116</td>\n",
       "      <td>-27.8689</td>\n",
       "      <td>4.7495</td>\n",
       "      <td>8.4787</td>\n",
       "      <td>13.5160</td>\n",
       "      <td>37.0037</td>\n",
       "    </tr>\n",
       "    <tr>\n",
       "      <th>1</th>\n",
       "      <td>33.0000</td>\n",
       "      <td>28.7537</td>\n",
       "      <td>11.7775</td>\n",
       "      <td>5.2609</td>\n",
       "      <td>22.3259</td>\n",
       "      <td>27.5032</td>\n",
       "      <td>34.5516</td>\n",
       "      <td>66.2787</td>\n",
       "    </tr>\n",
       "  </tbody>\n",
       "</table>\n",
       "</div>"
      ],
      "text/plain": [
       "                                 total_rate_change  \\\n",
       "                                             count   \n",
       "is_london                                            \n",
       "0                                         119.0000   \n",
       "1                                          33.0000   \n",
       "\n",
       "                                                    \\\n",
       "                                              mean   \n",
       "is_london                                            \n",
       "0                                           9.4707   \n",
       "1                                          28.7537   \n",
       "\n",
       "                                                    \\\n",
       "                                               std   \n",
       "is_london                                            \n",
       "0                                           8.5116   \n",
       "1                                          11.7775   \n",
       "\n",
       "                                                    \\\n",
       "                                               min   \n",
       "is_london                                            \n",
       "0                                         -27.8689   \n",
       "1                                           5.2609   \n",
       "\n",
       "                                                    \\\n",
       "                                               25%   \n",
       "is_london                                            \n",
       "0                                           4.7495   \n",
       "1                                          22.3259   \n",
       "\n",
       "                                                    \\\n",
       "                                               50%   \n",
       "is_london                                            \n",
       "0                                           8.4787   \n",
       "1                                          27.5032   \n",
       "\n",
       "                                                    \\\n",
       "                                               75%   \n",
       "is_london                                            \n",
       "0                                          13.5160   \n",
       "1                                          34.5516   \n",
       "\n",
       "                                                    \n",
       "                                               max  \n",
       "is_london                                           \n",
       "0                                          37.0037  \n",
       "1                                          66.2787  "
      ]
     },
     "execution_count": 19,
     "metadata": {},
     "output_type": "execute_result"
    }
   ],
   "source": [
    "df.groupby(['is_london'])[['total_rate_change']].describe() #0 is not London, 1 is London"
   ]
  },
  {
   "cell_type": "markdown",
   "metadata": {},
   "source": [
    "#### 5. Determining whether childhood obesity prevalence changes are normally distributed in London and non-London local authorities"
   ]
  },
  {
   "cell_type": "code",
   "execution_count": 59,
   "metadata": {},
   "outputs": [
    {
     "data": {
      "image/png": "[encoded data removed]",
      "text/plain": [
       "<Figure size 720x504 with 2 Axes>"
      ]
     },
     "metadata": {},
     "output_type": "display_data"
    }
   ],
   "source": [
    "x1 = df[df['is_london'] == 1]['total_rate_change']\n",
    "x2 = df[df['is_london'] == 0]['total_rate_change']\n",
    "\n",
    "fig1 = plt.figure(figsize=(10,7))\n",
    "ax1 = plt.subplot(1, 2, 1)\n",
    "ax1 = x1.plot.hist(bins=20, color='#d95f02')\n",
    "ax1.xaxis.set_minor_locator(AutoMinorLocator())\n",
    "ax1.set(xlabel='Percentage change\\nin childhood obesity prevalence\\nfrom 2008-2018,\\nLondon local authorities')\n",
    "\n",
    "ax2 = plt.subplot(1, 2, 2)\n",
    "ax2 = x2.plot.hist(bins=20, color='#1b9e77')\n",
    "ax2.xaxis.set_minor_locator(AutoMinorLocator())\n",
    "ax2.set(xlabel='Percentage change\\nin childhood obesity prevalence\\nfrom 2008-2018,\\nnon-London local authorities')\n",
    "\n",
    "plt.tight_layout()\n",
    "plt.savefig('fig1_hist.png')"
   ]
  },
  {
   "cell_type": "markdown",
   "metadata": {},
   "source": [
    "The Shapiro-Wilk test returns a data set's similarity to the normal distribution curve, with the null hypothesis being that the data set is normally distributed. A p-value of less than 0.05 indicates that the data set is not normally distributed. "
   ]
  },
  {
   "cell_type": "code",
   "execution_count": 25,
   "metadata": {},
   "outputs": [
    {
     "name": "stdout",
     "output_type": "stream",
     "text": [
      "London: (0.9499711990356445, 0.13277944922447205)\n",
      "Non-London: (0.9252148866653442, 5.318538569554221e-06)\n"
     ]
    }
   ],
   "source": [
    "stat_ldn, p_ldn = sps.shapiro(x1)\n",
    "print(f\"London: {stat_ldn, p_ldn}\")\n",
    "stat_nldn, p_nldn = sps.shapiro(x2)\n",
    "print(f\"Non-London: {stat_nldn, p_nldn}\")"
   ]
  },
  {
   "cell_type": "markdown",
   "metadata": {},
   "source": [
    "#### 6. Conducting the Kolmogorov-Smirnov two-sample test to compare distributions of childhood obesity prevalence changes"
   ]
  },
  {
   "cell_type": "markdown",
   "metadata": {},
   "source": [
    "##### a) Plotting each sample's empirical cumulative distribution function (ECDF)"
   ]
  },
  {
   "cell_type": "code",
   "execution_count": 69,
   "metadata": {},
   "outputs": [
    {
     "data": {
      "image/png": "[encoded data removed]",
      "text/plain": [
       "<Figure size 720x504 with 1 Axes>"
      ]
     },
     "metadata": {},
     "output_type": "display_data"
    }
   ],
   "source": [
    "cdf = plt.figure(figsize=(10,7))\n",
    "cdf = sn.ecdfplot(df, x='total_rate_change', hue='is_london', legend=False)\n",
    "cdf.set(xlabel='Percent change in childhood obesity prevalence, 2008-2018', \n",
    "        ylabel='Proportion of local authorities')\n",
    "cdf.xaxis.set_minor_locator(AutoMinorLocator())\n",
    "plt.legend(title='Region', loc='upper left', labels=['London', 'Outside London'])\n",
    "\n",
    "plt.tight_layout()\n",
    "plt.savefig('fig2_ecdf.png')"
   ]
  },
  {
   "cell_type": "markdown",
   "metadata": {},
   "source": [
    "##### b) The KS test"
   ]
  },
  {
   "cell_type": "code",
   "execution_count": 61,
   "metadata": {},
   "outputs": [
    {
     "name": "stdout",
     "output_type": "stream",
     "text": [
      "0.7578304048892284\n",
      "2.7755575615628914e-15\n"
     ]
    }
   ],
   "source": [
    "KSstat, pval = sps.ks_2samp(x1, x2)\n",
    "print(KSstat)\n",
    "print(pval)"
   ]
  }
 ],
 "metadata": {
  "kernelspec": {
   "display_name": "Python 3",
   "language": "python",
   "name": "python3"
  },
  "language_info": {
   "codemirror_mode": {
    "name": "ipython",
    "version": 3
   },
   "file_extension": ".py",
   "mimetype": "text/x-python",
   "name": "python",
   "nbconvert_exporter": "python",
   "pygments_lexer": "ipython3",
   "version": "3.7.8"
  }
 },
 "nbformat": 4,
 "nbformat_minor": 4
}
